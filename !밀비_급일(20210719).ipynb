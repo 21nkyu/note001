{
  "nbformat": 4,
  "nbformat_minor": 0,
  "metadata": {
    "colab": {
      "name": "!밀비 급일(20210719).ipynb",
      "provenance": [],
      "collapsed_sections": []
    },
    "kernelspec": {
      "name": "python3",
      "display_name": "Python 3.9.1 64-bit"
    },
    "language_info": {
      "name": "python",
      "version": "3.9.1"
    },
    "interpreter": {
      "hash": "05081a92177e1baf423e374e3b4d1dd21bcd2fc375711778c697177e01b17362"
    }
  },
  "cells": [
    {
      "cell_type": "markdown",
      "metadata": {
        "id": "Qrc3nFaAW7F7"
      },
      "source": [
        "한줄에 하나의 암호 : 한줄입력 한줄출력 : for while input\n",
        "\n",
        "END = escape code : while\n",
        "\n",
        "암호해독 : 문자열을 받아서 거꾸로 출력한다. :reverse 역index\n",
        "\n",
        "escape code 때문에 while 문으로 문제를 풀기로 결정하였다.\n",
        "\n",
        "시도해 볼 수 있는 방법 \n",
        "----------------------\n",
        "\n",
        "방법1 : for문을 통해 문자열 하나하나를 빈 리스트에 넣어서 리스트를 reverse 해서 \n",
        "출력한다\n",
        "\n",
        "실패 \n",
        "\n",
        "이유 : 'a' 형태로 출력되며 ', a, ' 세개의 문자열이다.\n",
        "\n",
        "방법2 : 문자열을 입력받아서 for문과 인덱스를 통해서 출력한다\n",
        "\n",
        "가짜성공\n",
        "\n",
        "이유 : 문자열을 for문으로 출력하면 세로로 출력되는데 가로로 출력하기 위해 end=''사용 했지만 다음 입력이 이어서 받아지기 때문에 출력형식오류가 난다.\n",
        "\n",
        "방법3 : 빈문자열을 만든다. 머릿속에 오직 리스트만 있었는데 입력을 문자열로 받으면 문자열에도 인덱스가 있다는 생각에 빈문자열 a='' 식으로 빈리스트 만들듯 만들어서 cnt += 1을 하듯 빈 문자열을 갱신하여 역으로 출력하게 하였다.\n",
        "\n",
        "성공\n",
        "\n",
        "\n",
        "\n",
        "\n",
        "\n",
        "\n"
      ]
    },
    {
      "cell_type": "code",
      "metadata": {
        "id": "4u-mOIYnan0v"
      },
      "source": [],
      "execution_count": null,
      "outputs": []
    },
    {
      "cell_type": "markdown",
      "metadata": {
        "id": "7QooTsVdXWIB"
      },
      "source": [
        "방법1 : for문을 통해 문자열 하나하나를 빈 리스트에 넣어서 리스트를 reverse 해서 출력한다\n",
        "\n",
        "실패\n",
        "\n",
        "이유 : 'a' 형태로 출력되며 ', a, ' 세개의 문자열이다."
      ]
    },
    {
      "cell_type": "code",
      "metadata": {
        "id": "BApKnNfuam-G"
      },
      "source": [
        "while True:\n",
        "  cipher = list(input())\n",
        "  if ''.join(cipher) == 'END': #이부분 주의해야함 // ciper = ['E', 'N', 'D'] 형태로 저장 되어있기 때문에 문자열 'END'로 while문을 빠져 나갈 수 없다.\n",
        "    break\n",
        "  else:\n",
        "    cipher.reverse()\n",
        "    print(cipher)"
      ],
      "execution_count": 1,
      "outputs": [
        {
          "output_type": "stream",
          "name": "stdout",
          "text": [
            "['W', 'h', 'a', 't', ' ', 'a', ' ', 'g', 'o', 'o', 'd', ' ', 'c', 'o', 'd', 'e', '!']\n",
            "['o', 'b', 'f', 'u', 's', 't', 'i', 'c', 'a', 't', 'i', 'o', 'n']\n",
            "['W', 'e', ' ', 'i', 'n', 't', 'e', 'n', 'd', ' ', 't', 'o', ' ', 'b', 'e', 'g', 'i', 'n', ' ', 'o', 'n', ' ', 't', 'h', 'e', ' ', 'f', 'i', 'r', 's', 't', ' ', 'o', 'f', ' ', 'F', 'e', 'b', 'r', 'u', 'a', 'r', 'y', ' ', 'u', 'n', 'r', 'e', 's', 't', 'r', 'i', 'c', 't', 'e', 'd', ' ', 's', 'u', 'b', 'm', 'a', 'r', 'i', 'n', 'e', ' ', 'w', 'a', 'r', 'f', 'a', 'r', 'e']\n",
            "['C', 'o', 'n', 'c', 'e', 'a', 'l', 'e', 'd', ' ', 'w', 'i', 't', 'h', 'i', 'n', ' ', 'h', 'i', 's', ' ', 'f', 'o', 'r', 't', 'r', 'e', 's', 's', ',', ' ', 't', 'h', 'e', ' ', 'l', 'o', 'r', 'd', ' ', 'o', 'f', ' ', 'M', 'o', 'r', 'd', 'o', 'r', ' ', 's', 'e', 'e', 's', ' ', 'a', 'l', 'l']\n"
          ]
        }
      ]
    },
    {
      "source": [
        "# 검색을 통해 해결방법을 찾음\n",
        "\n",
        " \n",
        "\n",
        "> **'str'.join()**메소드를\n",
        "===\n",
        "사용하여 str 데이터 타입 요소가있는리스트를 문자열로 변환 할 수 있다."
      ],
      "cell_type": "markdown",
      "metadata": {}
    },
    {
      "cell_type": "code",
      "execution_count": 2,
      "metadata": {},
      "outputs": [],
      "source": [
        "# 1.확인001\n",
        "letter_list = ['W', 'h', 'a', 't', ' ', 'a', ' ', 'g', 'o', 'o', 'd', ' ', 'c', 'o', 'd', 'e', '!']"
      ]
    },
    {
      "cell_type": "code",
      "execution_count": 3,
      "metadata": {},
      "outputs": [
        {
          "output_type": "stream",
          "name": "stdout",
          "text": [
            "What a good code!\n"
          ]
        }
      ],
      "source": [
        "print(''.join(letter_list))   # '' =  아무것도 없는것을 넣는다."
      ]
    },
    {
      "cell_type": "code",
      "execution_count": 4,
      "metadata": {},
      "outputs": [],
      "source": [
        "# 2.확인002\n",
        "letter_list = ['b','c']"
      ]
    },
    {
      "cell_type": "code",
      "execution_count": 5,
      "metadata": {},
      "outputs": [
        {
          "output_type": "stream",
          "name": "stdout",
          "text": [
            "bstrc\n"
          ]
        }
      ],
      "source": [
        "print('str'.join(letter_list))    # 리스트인덱스와 인덱스 사이에 'str'을 넣어준다."
      ]
    },
    {
      "cell_type": "code",
      "execution_count": 7,
      "metadata": {},
      "outputs": [],
      "source": [
        "# 3.이왕 한김에 join을 좀만더 알아보자\n",
        "int_list = [1,2,3]"
      ]
    },
    {
      "cell_type": "code",
      "execution_count": 8,
      "metadata": {},
      "outputs": [
        {
          "output_type": "stream",
          "name": "stdout",
          "text": [
            "123\n"
          ]
        }
      ],
      "source": [
        "print(''.join(map(str, int_list)))    # int형이라면 str로 변환해서 넣어주면 숫자도 뽑아 낼 수 있다."
      ]
    },
    {
      "cell_type": "code",
      "execution_count": 9,
      "metadata": {},
      "outputs": [
        {
          "output_type": "stream",
          "name": "stdout",
          "text": [
            "What a good code!\n",
            "obfustication\n",
            "We intend to begin on the first of February unrestricted submarine warfare\n",
            "Concealed within his fortress, the lord of Mordor sees all\n"
          ]
        }
      ],
      "source": [
        "#코드에 적용\n",
        "while True:\n",
        "    cipher = list(input())\n",
        "    if ''.join(cipher) == 'END':\n",
        "      break\n",
        "    else:\n",
        "      cipher.reverse()\n",
        "      print(''.join(cipher))"
      ]
    },
    {
      "cell_type": "markdown",
      "metadata": {
        "id": "5LY2pZAKbjbz"
      },
      "source": [
        "방법2 : 문자열을 입력받아서 for문과 인덱스를 통해서 출력한다\n",
        "---\n",
        "가짜성공\n",
        "\n",
        "이유 : 문자열을 for문으로 출력하면 세로로 출력되는데 가로로 출력하기 위해 end=''사용 했지만 다음 입력이 이어서 받아지기 때문에 출력형식오류가 난다."
      ]
    },
    {
      "cell_type": "code",
      "metadata": {
        "colab": {
          "base_uri": "https://localhost:8080/"
        },
        "id": "MnhxaodNcmMp",
        "outputId": "576fd309-27a5-4372-eb0d-55dce1443dd0"
      },
      "source": [
        "#prototype001\n",
        "while True:\n",
        "  cipher = input()\n",
        "  if cipher == 'END':\n",
        "    break\n",
        "  else:\n",
        "    for i in range(len(cipher) - 1, -1, -1):\n",
        "      print(cipher[i], end='')"
      ],
      "execution_count": 22,
      "outputs": [
        {
          "output_type": "stream",
          "name": "stdout",
          "text": [
            "What a good code!obfusticationWe intend to begin on the first of February unrestricted submarine warfareConcealed within his fortress, the lord of Mordor sees all"
          ]
        }
      ]
    },
    {
      "cell_type": "code",
      "metadata": {
        "colab": {
          "base_uri": "https://localhost:8080/"
        },
        "id": "RnSn7b7ac0_t",
        "outputId": "bfda8ee0-dc52-400a-bccc-38b30c246d7f"
      },
      "source": [
        "#prototype002\n",
        "while True:\n",
        "  cipher = input()\n",
        "  if cipher == 'END':\n",
        "    break\n",
        "  else:\n",
        "    for i in range(len(cipher) - 1, -1, -1):\n",
        "      print(cipher[i], end='' \"\\n\")"
      ],
      "execution_count": 21,
      "outputs": [
        {
          "output_type": "stream",
          "name": "stdout",
          "text": [
            "W\nh\na\nt\n \na\n \ng\no\no\nd\n \nc\no\nd\ne\n!\n"
          ]
        }
      ]
    },
    {
      "cell_type": "code",
      "metadata": {
        "colab": {
          "base_uri": "https://localhost:8080/"
        },
        "id": "2oPzW4xtfmBw",
        "outputId": "b2b3d9d9-6bca-4ce1-afa1-18fc6855c130"
      },
      "source": [
        "#prototype003\n",
        "while True:\n",
        "  cipher = input()\n",
        "  if cipher == 'END':\n",
        "    break\n",
        "  else:\n",
        "    for i in range(len(cipher) - 1, -1, -1):\n",
        "      print(cipher[i], end='')\n",
        "    print(\"\\n\")"
      ],
      "execution_count": 11,
      "outputs": [
        {
          "output_type": "stream",
          "name": "stdout",
          "text": [
            "What a good code!\n",
            "\n",
            "obfustication\n",
            "\n",
            "We intend to begin on the first of February unrestricted submarine warfare\n",
            "\n",
            "Concealed within his fortress, the lord of Mordor sees all\n",
            "\n"
          ]
        }
      ]
    },
    {
      "cell_type": "markdown",
      "metadata": {
        "id": "WAUm2yetfsmE"
      },
      "source": [
        "prototype003에서 그렇싸 하게 나오길래 채점 돌려봄\n",
        "실패함\n",
        "![image.png](data:image/png;base64,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)"
      ]
    },
    {
      "source": [
        "# 검색을 통해 해결방법을 찾음"
      ],
      "cell_type": "markdown",
      "metadata": {
        "id": "9eSraTOXgjFH"
      }
    },
    {
      "cell_type": "code",
      "execution_count": 23,
      "metadata": {},
      "outputs": [
        {
          "output_type": "stream",
          "name": "stdout",
          "text": [
            "What a good code!\n",
            "obfustication\n",
            "We intend to begin on the first of February unrestricted submarine warfare\n",
            "Concealed within his fortress, the lord of Mordor sees all\n"
          ]
        }
      ],
      "source": [
        "while True:\n",
        "    cipher = input()\n",
        "    if cipher =='END':\n",
        "        break\n",
        "    else:\n",
        "        print(cipher[::-1])"
      ]
    },
    {
      "source": [],
      "cell_type": "markdown",
      "metadata": {}
    },
    {
      "source": [
        "S[::1] : 안녕하세요 다음칸을 출력한다.\n",
        "\n",
        "S[::-1] : 요세하녕안 뒤집어서 출력한다.\n",
        "\n",
        "S[::2] : 안하요 2칸씩 앞으로 이동한다."
      ],
      "cell_type": "code",
      "metadata": {},
      "execution_count": null,
      "outputs": []
    },
    {
      "cell_type": "markdown",
      "metadata": {
        "id": "1Nm81FKKg08l"
      },
      "source": [
        "방법3 : 빈문자열을 만든다. \n",
        "==\n",
        "cnt = 0 을 생각함\n",
        "\n",
        "cnt += 1을 하듯 빈 문자열을 갱신하여 역으로 출력하였다\n",
        "\n",
        "성공\n",
        "----"
      ]
    },
    {
      "cell_type": "code",
      "metadata": {
        "colab": {
          "base_uri": "https://localhost:8080/"
        },
        "id": "u5yZpFjhg0_W",
        "outputId": "702c16c2-cd35-4939-9633-c982ac403627"
      },
      "source": [
        "while True:\n",
        "  cipher = input()\n",
        "  reverse_cipher = ''\n",
        "  if cipher == 'END':\n",
        "    break\n",
        "  else:\n",
        "    for letter in cipher:\n",
        "      reverse_cipher = letter + reverse_cipher ## 첫번째 뒤에 공백을 넣고 갱신\n",
        "      print(reverse_cipher)\n",
        "    print(reverse_cipher)"
      ],
      "execution_count": null,
      "outputs": [
        {
          "output_type": "stream",
          "text": [
            "!edoc doog a tahW\n",
            "!\n",
            "e!\n",
            "de!\n",
            "ode!\n",
            "code!\n",
            " code!\n",
            "d code!\n",
            "od code!\n",
            "ood code!\n",
            "good code!\n",
            " good code!\n",
            "a good code!\n",
            " a good code!\n",
            "t a good code!\n",
            "at a good code!\n",
            "hat a good code!\n",
            "What a good code!\n",
            "What a good code!\n",
            "END\n"
          ],
          "name": "stdout"
        }
      ]
    },
    {
      "cell_type": "code",
      "metadata": {
        "id": "ZVE5RIVwiUa3"
      },
      "source": [
        "!edoc doog a tahW\n",
        "!                 : !(letter) + '' (reverse_cipher = 빈문자열) : reverse_cipher = !\n",
        "e!                : e(letter) + !  (reverse_cipher)            : reverse_cipher = e!\n",
        "de!               : d(letter) + e! (reverse_cipher)            : reverse_cipher = dei\n",
        "ode!\n"
      ],
      "execution_count": null,
      "outputs": []
    },
    {
      "cell_type": "code",
      "metadata": {
        "colab": {
          "base_uri": "https://localhost:8080/"
        },
        "id": "z2ATp9YGjoW7",
        "outputId": "0bf26aa2-baf3-40e1-d16d-a384b989d0e0"
      },
      "source": [
        "while True:\n",
        "  cipher = input()\n",
        "  reverse_cipher = ''\n",
        "  if cipher == 'END':\n",
        "    break\n",
        "  else:\n",
        "    for letter in cipher:\n",
        "      reverse_cipher = letter + reverse_cipher\n",
        "    print(reverse_cipher)"
      ],
      "execution_count": 2,
      "outputs": [
        {
          "output_type": "stream",
          "name": "stdout",
          "text": [
            "What a good code!\n",
            "obfustication\n",
            "We intend to begin on the first of February unrestricted submarine warfare\n",
            "Concealed within his fortress, the lord of Mordor sees all\n"
          ]
        }
      ]
    },
    {
      "cell_type": "code",
      "execution_count": null,
      "metadata": {},
      "outputs": [],
      "source": []
    }
  ]
}